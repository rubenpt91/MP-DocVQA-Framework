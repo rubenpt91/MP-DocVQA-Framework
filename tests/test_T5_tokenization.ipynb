{
 "cells": [
  {
   "cell_type": "code",
   "execution_count": 1,
   "metadata": {},
   "outputs": [
    {
     "name": "stderr",
     "output_type": "stream",
     "text": [
      "/home/jordy/miniconda3/envs/mp_docvqa/lib/python3.9/site-packages/tqdm/auto.py:22: TqdmWarning: IProgress not found. Please update jupyter and ipywidgets. See https://ipywidgets.readthedocs.io/en/stable/user_install.html\n",
      "  from .autonotebook import tqdm as notebook_tqdm\n"
     ]
    },
    {
     "name": "stdout",
     "output_type": "stream",
     "text": [
      "['</s>', '<unk>', '<pad>', '<extra_id_0>', '<extra_id_1>', '<extra_id_2>', '<extra_id_3>', '<extra_id_4>', '<extra_id_5>', '<extra_id_6>', '<extra_id_7>', '<extra_id_8>', '<extra_id_9>', '<extra_id_10>', '<extra_id_11>', '<extra_id_12>', '<extra_id_13>', '<extra_id_14>', '<extra_id_15>', '<extra_id_16>', '<extra_id_17>', '<extra_id_18>', '<extra_id_19>', '<extra_id_20>', '<extra_id_21>', '<extra_id_22>', '<extra_id_23>', '<extra_id_24>', '<extra_id_25>', '<extra_id_26>', '<extra_id_27>', '<extra_id_28>', '<extra_id_29>', '<extra_id_30>', '<extra_id_31>', '<extra_id_32>', '<extra_id_33>', '<extra_id_34>', '<extra_id_35>', '<extra_id_36>', '<extra_id_37>', '<extra_id_38>', '<extra_id_39>', '<extra_id_40>', '<extra_id_41>', '<extra_id_42>', '<extra_id_43>', '<extra_id_44>', '<extra_id_45>', '<extra_id_46>', '<extra_id_47>', '<extra_id_48>', '<extra_id_49>', '<extra_id_50>', '<extra_id_51>', '<extra_id_52>', '<extra_id_53>', '<extra_id_54>', '<extra_id_55>', '<extra_id_56>', '<extra_id_57>', '<extra_id_58>', '<extra_id_59>', '<extra_id_60>', '<extra_id_61>', '<extra_id_62>', '<extra_id_63>', '<extra_id_64>', '<extra_id_65>', '<extra_id_66>', '<extra_id_67>', '<extra_id_68>', '<extra_id_69>', '<extra_id_70>', '<extra_id_71>', '<extra_id_72>', '<extra_id_73>', '<extra_id_74>', '<extra_id_75>', '<extra_id_76>', '<extra_id_77>', '<extra_id_78>', '<extra_id_79>', '<extra_id_80>', '<extra_id_81>', '<extra_id_82>', '<extra_id_83>', '<extra_id_84>', '<extra_id_85>', '<extra_id_86>', '<extra_id_87>', '<extra_id_88>', '<extra_id_89>', '<extra_id_90>', '<extra_id_91>', '<extra_id_92>', '<extra_id_93>', '<extra_id_94>', '<extra_id_95>', '<extra_id_96>', '<extra_id_97>', '<extra_id_98>', '<extra_id_99>']\n"
     ]
    },
    {
     "name": "stderr",
     "output_type": "stream",
     "text": [
      "/home/jordy/miniconda3/envs/mp_docvqa/lib/python3.9/site-packages/transformers/models/t5/tokenization_t5.py:163: FutureWarning: This tokenizer was incorrectly instantiated with a model max length of 512 which will be corrected in Transformers v5.\n",
      "For now, this behavior is kept to avoid breaking backwards compatibility when padding/encoding with `truncation is True`.\n",
      "- Be aware that you SHOULD NOT rely on t5-base automatically truncating your input to 512 when padding/encoding.\n",
      "- If you want to encode/pad to sequences longer than 512 you can either instantiate this tokenizer with `model_max_length` or pass `max_length` when encoding/padding.\n",
      "- To avoid this warning, please instantiate this tokenizer with `model_max_length` set to your preferred value.\n",
      "  warnings.warn(\n"
     ]
    }
   ],
   "source": [
    "from transformers import T5Tokenizer, T5ForConditionalGeneration\n",
    "\n",
    "tokenizer = T5Tokenizer.from_pretrained(\"t5-base\")\n",
    "print(tokenizer.all_special_tokens)\n",
    "\n",
    "#tokenizer.add_tokens(['<some_token_1>', '<some_token_2'>])\n",
    "\n",
    "#model = T5ForConditionalGeneration.from_pretrained(\"t5-small\")\n",
    "#model.resize_token_embeddings(len(tokenizer))"
   ]
  },
  {
   "cell_type": "code",
   "execution_count": 2,
   "metadata": {},
   "outputs": [],
   "source": [
    "# examples of answers of different types and how we would encode them\n",
    "\n",
    "single = [\"TRIPLE PLAY CONSULTING, Inc.,\"]\n",
    "listtype = [\n",
    "            \"Board of Education\",\n",
    "            \"City of Chicago\"\n",
    "        ]\n",
    "nonetype = []"
   ]
  },
  {
   "cell_type": "markdown",
   "metadata": {},
   "source": [
    "## Testing tokenization for single"
   ]
  },
  {
   "cell_type": "code",
   "execution_count": 15,
   "metadata": {},
   "outputs": [
    {
     "name": "stdout",
     "output_type": "stream",
     "text": [
      "[3, 16840, 27872, 17501, 476, 8472, 134, 4254, 21089, 6, 1542, 5, 6, 1]\n",
      "TRIPLE PLAY CONSULTING, Inc.,</s>\n",
      "TRIPLE PLAY CONSULTING, Inc.,\n",
      "----\n",
      "[2086, 13, 2855, 3, 184, 184, 896, 13, 3715, 1]\n",
      "Board of Education && City of Chicago</s>\n",
      "Board of Education && City of Chicago\n",
      "----\n",
      "[2086, 13, 2855, 1820, 896, 13, 3715, 1]\n",
      "Board of Education | City of Chicago</s>\n",
      "Board of Education | City of Chicago\n",
      "----\n",
      "[1]\n",
      "</s>\n",
      "\n",
      "----\n",
      "[1]\n",
      "</s>\n",
      "\n",
      "----\n",
      "[5839, 1]\n",
      "none</s>\n",
      "none\n",
      "----\n",
      "before\n",
      "[3, 2, 567, 7894, 3155, 1]\n",
      "<unk> NONE></s>\n",
      "⁇ NONE>\n",
      "after\n"
     ]
    },
    {
     "data": {
      "text/plain": [
       "'<NONE>'"
      ]
     },
     "execution_count": 15,
     "metadata": {},
     "output_type": "execute_result"
    }
   ],
   "source": [
    "from typing import List\n",
    "\n",
    "def nonetype_specialtoken(answers:List,tokenizer, value=\"<NONE>\"):\n",
    "    tokenizer.add_tokens([value])\n",
    "    return value\n",
    "\n",
    "def nonetype_empty(answers:List, value=\"\"):\n",
    "    return value\n",
    "\n",
    "def listtype_sep(answers:List, separator=\" | \"):\n",
    "    return separator.join(answers)\n",
    "\n",
    "def check_tokenization(answer:str):\n",
    "    tokenized = tokenizer(answer).input_ids\n",
    "    decoded = tokenizer.decode(tokenized)\n",
    "    converted = tokenizer.convert_tokens_to_string(tokenized)\n",
    "\n",
    "    print(\"\\n\".join([str(tokenized), decoded, converted]))\n",
    "\n",
    "\n",
    "check_tokenization(single[0])\n",
    "print(\"----\")\n",
    "check_tokenization(listtype_sep(listtype, separator=\" && \"))\n",
    "print(\"----\")\n",
    "check_tokenization(listtype_sep(listtype))\n",
    "print(\"----\")\n",
    "check_tokenization(nonetype_empty(nonetype))\n",
    "print(\"----\")\n",
    "check_tokenization(nonetype_empty(nonetype, value=\" \"))\n",
    "print(\"----\")\n",
    "check_tokenization(nonetype_empty(nonetype, value=\"none\"))\n",
    "print(\"----\")\n",
    "print(\"before\")\n",
    "check_tokenization(\"<NONE>\")\n",
    "print(\"after\")\n",
    "nonetype_specialtoken(nonetype,tokenizer, value=\"<NONE>\")"
   ]
  },
  {
   "cell_type": "code",
   "execution_count": 18,
   "metadata": {},
   "outputs": [
    {
     "name": "stdout",
     "output_type": "stream",
     "text": [
      "before\n",
      "[10144, 1]\n",
      "NA</s>\n",
      "NA\n",
      "after\n"
     ]
    },
    {
     "data": {
      "text/plain": [
       "'NA'"
      ]
     },
     "execution_count": 18,
     "metadata": {},
     "output_type": "execute_result"
    }
   ],
   "source": [
    "print(\"before\")\n",
    "check_tokenization(\"NA\")\n",
    "print(\"after\")\n",
    "nonetype_specialtoken(nonetype,tokenizer, value=\"NA\")"
   ]
  },
  {
   "cell_type": "markdown",
   "metadata": {},
   "source": []
  },
  {
   "cell_type": "code",
   "execution_count": null,
   "metadata": {},
   "outputs": [],
   "source": [
    "from transformers import T5Tokenizer, T5ForConditionalGeneration\n",
    "\n",
    "tokenizer = T5Tokenizer.from_pretrained(\"t5-small\")\n",
    "model = T5ForConditionalGeneration.from_pretrained(\"t5-small\")\n",
    "\n",
    "input_ids = tokenizer(\"The <extra_id_0> walks in <extra_id_1> park\", return_tensors=\"pt\").input_ids\n",
    "labels = tokenizer(\"<extra_id_0> cute dog <extra_id_1> the <extra_id_2>\", return_tensors=\"pt\").input_ids\n",
    "\n",
    "# the forward function automatically creates the correct decoder_input_ids\n",
    "loss = model(input_ids=input_ids, labels=labels).loss\n",
    "loss.item()\n",
    "\n",
    "#additional_special_tokens\n",
    "\n",
    "#tokenizer.build_inputs_with_special_tokens"
   ]
  },
  {
   "cell_type": "markdown",
   "metadata": {},
   "source": [
    "## Check how many tokens answers have on average\n"
   ]
  },
  {
   "cell_type": "code",
   "execution_count": 6,
   "metadata": {},
   "outputs": [
    {
     "data": {
      "text/plain": [
       "DescribeResult(nobs=6324, minmax=(1, 20), mean=4.609266287160025, variance=14.162817807302295, skewness=2.2471201480632748, kurtosis=5.239790552256563)"
      ]
     },
     "execution_count": 6,
     "metadata": {},
     "output_type": "execute_result"
    }
   ],
   "source": [
    "import json\n",
    "FILEPATH = \"../save/results/T5_DUDE_concat__2023-02-23_17-25-38.json\"\n",
    "results = json.load(open(FILEPATH, \"r\"))\n",
    "\n",
    "answers = [x['pred_answer'] for k, x in results[\"Scores by samples\"].items()]\n",
    "n_tokens = [len(tokenizer(a).input_ids) for a in answers]\n",
    "from scipy.stats import describe\n",
    "describe(n_tokens)"
   ]
  },
  {
   "cell_type": "code",
   "execution_count": null,
   "metadata": {},
   "outputs": [],
   "source": []
  },
  {
   "cell_type": "code",
   "execution_count": 3,
   "metadata": {},
   "outputs": [
    {
     "name": "stderr",
     "output_type": "stream",
     "text": [
      "Token indices sequence length is longer than the specified maximum sequence length for this model (565 > 512). Running this sequence through the model will result in indexing errors\n"
     ]
    },
    {
     "ename": "ModuleNotFoundError",
     "evalue": "No module named 'scipy'",
     "output_type": "error",
     "traceback": [
      "\u001b[0;31m---------------------------------------------------------------------------\u001b[0m",
      "\u001b[0;31mModuleNotFoundError\u001b[0m                       Traceback (most recent call last)",
      "Cell \u001b[0;32mIn[3], line 12\u001b[0m\n\u001b[1;32m      9\u001b[0m df[\u001b[39m\"\u001b[39m\u001b[39mtokenized\u001b[39m\u001b[39m\"\u001b[39m] \u001b[39m=\u001b[39m df[\u001b[39m\"\u001b[39m\u001b[39mA\u001b[39m\u001b[39m\"\u001b[39m]\u001b[39m.\u001b[39mapply(\u001b[39mlambda\u001b[39;00m a: tokenizer(a)\u001b[39m.\u001b[39minput_ids)\n\u001b[1;32m     11\u001b[0m df[\u001b[39m\"\u001b[39m\u001b[39mn_tokens\u001b[39m\u001b[39m\"\u001b[39m] \u001b[39m=\u001b[39m df[\u001b[39m\"\u001b[39m\u001b[39mA\u001b[39m\u001b[39m\"\u001b[39m]\u001b[39m.\u001b[39mapply(\u001b[39mlambda\u001b[39;00m a: \u001b[39mlen\u001b[39m(tokenizer(a)\u001b[39m.\u001b[39minput_ids))\n\u001b[0;32m---> 12\u001b[0m \u001b[39mfrom\u001b[39;00m \u001b[39mscipy\u001b[39;00m\u001b[39m.\u001b[39;00m\u001b[39mstats\u001b[39;00m \u001b[39mimport\u001b[39;00m describe\n\u001b[1;32m     14\u001b[0m describe(df[\u001b[39m\"\u001b[39m\u001b[39mn_tokens\u001b[39m\u001b[39m\"\u001b[39m])\n",
      "\u001b[0;31mModuleNotFoundError\u001b[0m: No module named 'scipy'"
     ]
    }
   ],
   "source": [
    "import numpy as np\n",
    "import pandas as pd\n",
    "\n",
    "\n",
    "FILEPATH = \"./trainval_QA-pairs.csv\"\n",
    "df = pd.read_csv(FILEPATH)\n",
    "df[\"A\"] = df[\"A\"].apply(lambda a: \"none\" if a == \"[]\" else str(a))\n",
    "\n",
    "df[\"tokenized\"] = df[\"A\"].apply(lambda a: tokenizer(a).input_ids)\n",
    "df[\"n_tokens\"] = df[\"A\"].apply(lambda a: len(tokenizer(a).input_ids))"
   ]
  },
  {
   "cell_type": "code",
   "execution_count": 20,
   "metadata": {},
   "outputs": [
    {
     "name": "stdout",
     "output_type": "stream",
     "text": [
      "What are the 5 disruptive technologies in 2013, according to IBM?\n",
      "what is the client recive mmethods in the document?\n",
      "What is the statements of significant?\n",
      "How much classroom time is required for a bombardier to become familiar with the bombsight?\n",
      "How are bounding boxes represented?\n",
      "What about coverage for behavioral health service?\n",
      "Which 2 groups did The Honourable Jody Wilson-Raybound that a formal inquiry be conducted in regards to Dr. Hassan Diab's affair?\n",
      "How many reforms were proposed in the document?\n",
      "Describe the faculty requirements summary?\n",
      "How many people are involved in supporting the International Space Station (ISS)?\n",
      "WHAT KIND OF RED APPLE ENTITY?\n",
      "What are the plaintiffs accusing the defendants of?\n",
      "What are the implications of Title 18 Sections 793 and 794, of the U.S. Code as amended?\n",
      "What is the time and the kind of services offered by the scientists at the First church of Christ?\n",
      "What is INFLATION KIT?\n",
      "Is there pink lines ?\n",
      "How climate change can affect pregnant woman?\n"
     ]
    },
    {
     "data": {
      "text/plain": [
       "<Axes: >"
      ]
     },
     "execution_count": 20,
     "metadata": {},
     "output_type": "execute_result"
    },
    {
     "data": {
      "image/png": "[encoded data removed]",
      "text/plain": [
       "<Figure size 640x480 with 1 Axes>"
      ]
     },
     "metadata": {},
     "output_type": "display_data"
    }
   ],
   "source": [
    "from scipy.stats import describe\n",
    "describe(df[\"n_tokens\"])\n",
    "\n",
    "print(\"\\n\".join([df[\"Q\"].iloc[i] for i, x in enumerate(df[\"n_tokens\"]) if x > 100]))\n",
    "df.plot.box(y=\"n_tokens\")#.hist(bins=100)"
   ]
  },
  {
   "cell_type": "code",
   "execution_count": 28,
   "metadata": {},
   "outputs": [
    {
     "data": {
      "text/plain": [
       "269.43600000000515"
      ]
     },
     "execution_count": 28,
     "metadata": {},
     "output_type": "execute_result"
    }
   ],
   "source": [
    "import scipy.stats as stats\n",
    "stats.scoreatpercentile(df['n_tokens'], 99.95)"
   ]
  },
  {
   "cell_type": "markdown",
   "metadata": {},
   "source": [
    "## test token addition and initialization strategies\n"
   ]
  },
  {
   "cell_type": "code",
   "execution_count": 2,
   "metadata": {},
   "outputs": [
    {
     "name": "stderr",
     "output_type": "stream",
     "text": [
      "/home/jordy/miniconda3/envs/mp_docvqa/lib/python3.9/site-packages/tqdm/auto.py:22: TqdmWarning: IProgress not found. Please update jupyter and ipywidgets. See https://ipywidgets.readthedocs.io/en/stable/user_install.html\n",
      "  from .autonotebook import tqdm as notebook_tqdm\n",
      "/home/jordy/miniconda3/envs/mp_docvqa/lib/python3.9/site-packages/transformers/models/t5/tokenization_t5.py:163: FutureWarning: This tokenizer was incorrectly instantiated with a model max length of 512 which will be corrected in Transformers v5.\n",
      "For now, this behavior is kept to avoid breaking backwards compatibility when padding/encoding with `truncation is True`.\n",
      "- Be aware that you SHOULD NOT rely on t5-base automatically truncating your input to 512 when padding/encoding.\n",
      "- If you want to encode/pad to sequences longer than 512 you can either instantiate this tokenizer with `model_max_length` or pass `max_length` when encoding/padding.\n",
      "- To avoid this warning, please instantiate this tokenizer with `model_max_length` set to your preferred value.\n",
      "  warnings.warn(\n"
     ]
    },
    {
     "name": "stdout",
     "output_type": "stream",
     "text": [
      "32100\n"
     ]
    }
   ],
   "source": [
    "from transformers import T5Tokenizer, T5ForConditionalGeneration\n",
    "\n",
    "tokenizer = T5Tokenizer.from_pretrained(\"t5-base\")\n",
    "print(len(tokenizer.get_vocab()))\n",
    "model = T5ForConditionalGeneration.from_pretrained(\"t5-base\")"
   ]
  },
  {
   "cell_type": "code",
   "execution_count": 3,
   "metadata": {},
   "outputs": [
    {
     "data": {
      "text/plain": [
       "Parameter containing:\n",
       "tensor([[ -0.7539,   0.5977,  -2.4375,  ...,   1.2500,  -0.7891,   3.5156],\n",
       "        [ 11.3750,  -4.8750,   9.0625,  ...,   4.8438,  14.3750,  -5.7812],\n",
       "        [-16.6250,  11.0625, -20.8750,  ...,  10.6875,  22.2500,  25.0000],\n",
       "        ...,\n",
       "        [  2.2344,   6.7500, -11.0625,  ..., -11.3125,  13.5625,  16.6250],\n",
       "        [  4.2500,   5.1250, -12.2500,  ..., -11.9375,  13.5000,  17.0000],\n",
       "        [  4.0625,   6.9688, -12.2500,  ..., -11.3750,  11.9375,  16.6250]],\n",
       "       requires_grad=True)"
      ]
     },
     "execution_count": 3,
     "metadata": {},
     "output_type": "execute_result"
    }
   ],
   "source": [
    "#model.encoder.embeddings.word_embeddings.weight\n",
    "model.shared.weight"
   ]
  },
  {
   "cell_type": "code",
   "execution_count": 14,
   "metadata": {},
   "outputs": [
    {
     "name": "stdout",
     "output_type": "stream",
     "text": [
      "32105\n",
      "32105\n"
     ]
    }
   ],
   "source": [
    "import torch\n",
    "from tqdm import tqdm\n",
    "\n",
    "def initialize_tokens_by_averaging(tokenizer, model, sorted_tokens):\n",
    "    with torch.no_grad():\n",
    "        for idx in range(0, len(sorted_tokens)):\n",
    "\n",
    "            tokens = tokenizer.tokenize(sorted_tokens[idx])\n",
    "\n",
    "            tokenized_ids = tokenizer.convert_tokens_to_ids(tokens)\n",
    "\n",
    "            tokenizer.add_tokens(sorted_tokens[idx])\n",
    "\n",
    "            model.resize_token_embeddings(len(tokenizer))\n",
    "\n",
    "            ##model.bert.embeddings.word_embeddings.weight\n",
    "            #specific to T5\n",
    "\n",
    "def initialize_tokens_randomly(tokenizer, model, sorted_tokens):\n",
    "\n",
    "    for idx in range(0, len(sorted_tokens)):\n",
    "        tokenizer.add_tokens(sorted_tokens[idx])\n",
    "\n",
    "    # resize embedding layers\n",
    "    model.resize_token_embeddings(len(tokenizer))\n",
    "    \n",
    "\n",
    "QTYPES = [\"extractive\", \"abstractive\", \"list/abstractive\", \"list/extractive\", \"not-answerable\"]\n",
    "\n",
    "initialize_tokens_randomly(tokenizer, model, QTYPES)\n",
    "print(len(tokenizer.get_vocab()))\n",
    "\n",
    "initialize_tokens_by_averaging(tokenizer, model, QTYPES)\n",
    "print(len(tokenizer.get_vocab()))"
   ]
  },
  {
   "cell_type": "markdown",
   "metadata": {},
   "source": [
    "# confidence estimation"
   ]
  },
  {
   "cell_type": "code",
   "execution_count": null,
   "metadata": {},
   "outputs": [],
   "source": [
    "\"\"\"\n",
    "    decoder_input_ids=prompt_tensors,\n",
    "    encoder_outputs=encoder_outputs,\n",
    "\n",
    "gen_sequences = decoder_output.sequences[:, prompt_tensors.shape[-1]:-1]\n",
    "probs = torch.stack(decoder_output.scores, dim=1).softmax(-1)\n",
    "gen_probs = torch.gather(probs, 2, gen_sequences[:, :, None]).squeeze(-1)\n",
    "unique_prob_per_sequence = gen_probs.prod(-1)\n",
    "\n",
    "def compute_logprob(model, input_dict: Dict[str, torch.Tensor]):  # first token is omitted\n",
    "  labels = input_dict['input_ids']\n",
    "  outputs = model(**input_dict, labels=labels)\n",
    "  logits = outputs[1].detach()\n",
    "  logprobs = F.log_softmax(logits, dim=-1)\n",
    "  #logprobs = torch.gather(logprobs, -1, input_dict['input_ids'].unsqueeze(-1)).squeeze(-1)\n",
    "  logprobs = torch.gather(logprobs[:, :-1, :], -1, labels[:, 1:].unsqueeze(-1)).squeeze(-1)\n",
    "  first_lps = torch.zeros_like(logprobs[:, :1])  # assume the first token always have prob of 1\n",
    "  logprobs = torch.cat([first_lps, logprobs], 1)\n",
    "  return logprobs\n",
    "\"\"\""
   ]
  },
  {
   "attachments": {},
   "cell_type": "markdown",
   "metadata": {},
   "source": [
    "## Test atype and qtype tokenization"
   ]
  },
  {
   "cell_type": "code",
   "execution_count": 7,
   "metadata": {},
   "outputs": [
    {
     "name": "stdout",
     "output_type": "stream",
     "text": [
      "Collecting matplotlib\n",
      "  Downloading matplotlib-3.7.0-cp39-cp39-manylinux_2_17_x86_64.manylinux2014_x86_64.whl (11.6 MB)\n",
      "\u001b[2K     \u001b[90m━━━━━━━━━━━━━━━━━━━━━━━━━━━━━━━━━━━━━━━━\u001b[0m \u001b[32m11.6/11.6 MB\u001b[0m \u001b[31m6.2 MB/s\u001b[0m eta \u001b[36m0:00:00\u001b[0m00:01\u001b[0m00:01\u001b[0m\n",
      "\u001b[?25hCollecting seaborn\n",
      "  Downloading seaborn-0.12.2-py3-none-any.whl (293 kB)\n",
      "\u001b[2K     \u001b[90m━━━━━━━━━━━━━━━━━━━━━━━━━━━━━━━━━━━━━━━\u001b[0m \u001b[32m293.3/293.3 kB\u001b[0m \u001b[31m2.8 MB/s\u001b[0m eta \u001b[36m0:00:00\u001b[0m00:01\u001b[0m00:01\u001b[0m\n",
      "\u001b[?25hRequirement already satisfied: numpy>=1.20 in /home/jordy/miniconda3/envs/mp_docvqa/lib/python3.9/site-packages (from matplotlib) (1.24.2)\n",
      "Collecting kiwisolver>=1.0.1\n",
      "  Downloading kiwisolver-1.4.4-cp39-cp39-manylinux_2_12_x86_64.manylinux2010_x86_64.whl (1.6 MB)\n",
      "\u001b[2K     \u001b[90m━━━━━━━━━━━━━━━━━━━━━━━━━━━━━━━━━━━━━━━━\u001b[0m \u001b[32m1.6/1.6 MB\u001b[0m \u001b[31m3.7 MB/s\u001b[0m eta \u001b[36m0:00:00\u001b[0m00:01\u001b[0m00:01\u001b[0m\n",
      "\u001b[?25hCollecting contourpy>=1.0.1\n",
      "  Downloading contourpy-1.0.7-cp39-cp39-manylinux_2_17_x86_64.manylinux2014_x86_64.whl (299 kB)\n",
      "\u001b[2K     \u001b[90m━━━━━━━━━━━━━━━━━━━━━━━━━━━━━━━━━━━━━━━\u001b[0m \u001b[32m299.7/299.7 kB\u001b[0m \u001b[31m3.2 MB/s\u001b[0m eta \u001b[36m0:00:00\u001b[0m00:01\u001b[0m00:01\u001b[0m\n",
      "\u001b[?25hCollecting cycler>=0.10\n",
      "  Downloading cycler-0.11.0-py3-none-any.whl (6.4 kB)\n",
      "Collecting fonttools>=4.22.0\n",
      "  Downloading fonttools-4.38.0-py3-none-any.whl (965 kB)\n",
      "\u001b[2K     \u001b[90m━━━━━━━━━━━━━━━━━━━━━━━━━━━━━━━━━━━━━━━\u001b[0m \u001b[32m965.4/965.4 kB\u001b[0m \u001b[31m4.4 MB/s\u001b[0m eta \u001b[36m0:00:00\u001b[0m00:01\u001b[0m00:01\u001b[0m\n",
      "\u001b[?25hCollecting pyparsing>=2.3.1\n",
      "  Downloading pyparsing-3.0.9-py3-none-any.whl (98 kB)\n",
      "\u001b[2K     \u001b[90m━━━━━━━━━━━━━━━━━━━━━━━━━━━━━━━━━━━━━━━━\u001b[0m \u001b[32m98.3/98.3 kB\u001b[0m \u001b[31m1.5 MB/s\u001b[0m eta \u001b[36m0:00:00\u001b[0ma \u001b[36m0:00:01\u001b[0m\n",
      "\u001b[?25hRequirement already satisfied: python-dateutil>=2.7 in /home/jordy/miniconda3/envs/mp_docvqa/lib/python3.9/site-packages (from matplotlib) (2.8.2)\n",
      "Collecting importlib-resources>=3.2.0\n",
      "  Downloading importlib_resources-5.12.0-py3-none-any.whl (36 kB)\n",
      "Requirement already satisfied: pillow>=6.2.0 in /home/jordy/miniconda3/envs/mp_docvqa/lib/python3.9/site-packages (from matplotlib) (9.4.0)\n",
      "Requirement already satisfied: packaging>=20.0 in /home/jordy/miniconda3/envs/mp_docvqa/lib/python3.9/site-packages (from matplotlib) (23.0)\n",
      "Requirement already satisfied: pandas>=0.25 in /home/jordy/miniconda3/envs/mp_docvqa/lib/python3.9/site-packages (from seaborn) (1.5.3)\n",
      "Requirement already satisfied: zipp>=3.1.0 in /home/jordy/miniconda3/envs/mp_docvqa/lib/python3.9/site-packages (from importlib-resources>=3.2.0->matplotlib) (3.14.0)\n",
      "Requirement already satisfied: pytz>=2020.1 in /home/jordy/miniconda3/envs/mp_docvqa/lib/python3.9/site-packages (from pandas>=0.25->seaborn) (2022.7.1)\n",
      "Requirement already satisfied: six>=1.5 in /home/jordy/miniconda3/envs/mp_docvqa/lib/python3.9/site-packages (from python-dateutil>=2.7->matplotlib) (1.16.0)\n",
      "Installing collected packages: pyparsing, kiwisolver, importlib-resources, fonttools, cycler, contourpy, matplotlib, seaborn\n",
      "Successfully installed contourpy-1.0.7 cycler-0.11.0 fonttools-4.38.0 importlib-resources-5.12.0 kiwisolver-1.4.4 matplotlib-3.7.0 pyparsing-3.0.9 seaborn-0.12.2\n"
     ]
    }
   ],
   "source": [
    "!pip3 install matplotlib seaborn"
   ]
  },
  {
   "cell_type": "markdown",
   "metadata": {},
   "source": [
    "# Confidence seq2seq"
   ]
  },
  {
   "cell_type": "code",
   "execution_count": 1,
   "metadata": {},
   "outputs": [
    {
     "name": "stderr",
     "output_type": "stream",
     "text": [
      "/home/jordy/.virtualenvs/SOTA/lib/python3.8/site-packages/transformers/models/t5/tokenization_t5.py:163: FutureWarning: This tokenizer was incorrectly instantiated with a model max length of 512 which will be corrected in Transformers v5.\n",
      "For now, this behavior is kept to avoid breaking backwards compatibility when padding/encoding with `truncation is True`.\n",
      "- Be aware that you SHOULD NOT rely on t5-base automatically truncating your input to 512 when padding/encoding.\n",
      "- If you want to encode/pad to sequences longer than 512 you can either instantiate this tokenizer with `model_max_length` or pass `max_length` when encoding/padding.\n",
      "- To avoid this warning, please instantiate this tokenizer with `model_max_length` set to your preferred value.\n",
      "  warnings.warn(\n"
     ]
    }
   ],
   "source": [
    "from transformers import T5Tokenizer, T5ForConditionalGeneration\n",
    " \n",
    "tokenizer = T5Tokenizer.from_pretrained(\"t5-base\")\n",
    "model = T5ForConditionalGeneration.from_pretrained(\"t5-base\")"
   ]
  },
  {
   "cell_type": "code",
   "execution_count": 2,
   "metadata": {},
   "outputs": [],
   "source": [
    "input_ids = tokenizer(\"The <extra_id_0> walks in <extra_id_1> park\", return_tensors=\"pt\").input_ids\n",
    "labels = tokenizer(\"<extra_id_0> cute dog <extra_id_1> the <extra_id_2>\", return_tensors=\"pt\").input_ids\n",
    "\n",
    "# the forward function automatically creates the correct decoder_input_ids\n",
    "output = model(input_ids=input_ids, labels=labels)\n",
    "\n"
   ]
  },
  {
   "cell_type": "code",
   "execution_count": 3,
   "metadata": {},
   "outputs": [
    {
     "name": "stderr",
     "output_type": "stream",
     "text": [
      "/home/jordy/.virtualenvs/SOTA/lib/python3.8/site-packages/transformers/generation/utils.py:1387: UserWarning: Neither `max_length` nor `max_new_tokens` has been set, `max_length` will default to 20 (`self.config.max_length`). Controlling `max_length` via the config is deprecated and `max_length` will be removed from the config in v5 of Transformers -- we recommend using `max_new_tokens` to control the maximum length of the generation.\n",
      "  warnings.warn(\n"
     ]
    },
    {
     "name": "stdout",
     "output_type": "stream",
     "text": [
      "[-5.62463284]\n"
     ]
    }
   ],
   "source": [
    "import torch\n",
    "import numpy as np \n",
    "input_ids = tokenizer(\"translate English to German: The house is wonderful.\", return_tensors=\"pt\").input_ids\n",
    "output = model.generate(**tokenizer(\"translate English to German: The house is wonderful.\", return_tensors=\"pt\"), output_scores=True,\n",
    "            return_dict_in_generate=True,\n",
    "            output_attentions=True)\n",
    "pred_answers = tokenizer.batch_decode(\n",
    "    output[\"sequences\"], skip_special_tokens=True\n",
    ")\n",
    "bs=1\n",
    "all_logits = torch.stack(output.scores)\n",
    "token_logits = np.zeros(len(output[\"scores\"][0]))\n",
    "for seq_ix in range(len(output[\"scores\"])):\n",
    "    for batch_ix in range(bs):\n",
    "        token_id = output.sequences[batch_ix, seq_ix + 1]\n",
    "        best_logits[batch_ix] += (\n",
    "            all_logits[seq_ix, batch_ix, token_id]\n",
    "            if token_id not in tokenizer.all_special_ids\n",
    "            else 0\n",
    "        )\n",
    "\n",
    "print(best_logits)"
   ]
  },
  {
   "cell_type": "code",
   "execution_count": 34,
   "metadata": {},
   "outputs": [
    {
     "ename": "SyntaxError",
     "evalue": "invalid syntax (<ipython-input-34-18a8a62a5e58>, line 1)",
     "output_type": "error",
     "traceback": [
      "\u001b[0;36m  File \u001b[0;32m\"<ipython-input-34-18a8a62a5e58>\"\u001b[0;36m, line \u001b[0;32m1\u001b[0m\n\u001b[0;31m    shape ut.scores[0])\u001b[0m\n\u001b[0m          ^\u001b[0m\n\u001b[0;31mSyntaxError\u001b[0m\u001b[0;31m:\u001b[0m invalid syntax\n"
     ]
    }
   ],
   "source": []
  },
  {
   "cell_type": "code",
   "execution_count": 37,
   "metadata": {},
   "outputs": [
    {
     "ename": "IndexError",
     "evalue": "index 1 is out of bounds for axis 0 with size 1",
     "output_type": "error",
     "traceback": [
      "\u001b[0;31m---------------------------------------------------------------------------\u001b[0m",
      "\u001b[0;31mIndexError\u001b[0m                                Traceback (most recent call last)",
      "\u001b[0;32m<ipython-input-37-f51fa4bf101b>\u001b[0m in \u001b[0;36m<module>\u001b[0;34m\u001b[0m\n\u001b[1;32m      5\u001b[0m     \u001b[0;32mfor\u001b[0m \u001b[0mbatch_ix\u001b[0m \u001b[0;32min\u001b[0m \u001b[0mrange\u001b[0m\u001b[0;34m(\u001b[0m\u001b[0mbs\u001b[0m\u001b[0;34m)\u001b[0m\u001b[0;34m:\u001b[0m\u001b[0;34m\u001b[0m\u001b[0;34m\u001b[0m\u001b[0m\n\u001b[1;32m      6\u001b[0m         \u001b[0mtoken_id\u001b[0m \u001b[0;34m=\u001b[0m \u001b[0moutput\u001b[0m\u001b[0;34m.\u001b[0m\u001b[0msequences\u001b[0m\u001b[0;34m[\u001b[0m\u001b[0mbatch_ix\u001b[0m\u001b[0;34m,\u001b[0m \u001b[0mseq_ix\u001b[0m \u001b[0;34m+\u001b[0m \u001b[0;36m1\u001b[0m\u001b[0;34m]\u001b[0m\u001b[0;34m\u001b[0m\u001b[0;34m\u001b[0m\u001b[0m\n\u001b[0;32m----> 7\u001b[0;31m         \u001b[0mspecial_token_mask\u001b[0m\u001b[0;34m[\u001b[0m\u001b[0mseq_ix\u001b[0m\u001b[0;34m,\u001b[0m\u001b[0mbatch_ix\u001b[0m\u001b[0;34m]\u001b[0m\u001b[0;34m=\u001b[0m\u001b[0mbool\u001b[0m\u001b[0;34m(\u001b[0m\u001b[0mtoken_id\u001b[0m \u001b[0;32mnot\u001b[0m \u001b[0;32min\u001b[0m \u001b[0mtokenizer\u001b[0m\u001b[0;34m.\u001b[0m\u001b[0mall_special_ids\u001b[0m\u001b[0;34m)\u001b[0m\u001b[0;34m\u001b[0m\u001b[0;34m\u001b[0m\u001b[0m\n\u001b[0m\u001b[1;32m      8\u001b[0m \u001b[0mprint\u001b[0m\u001b[0;34m(\u001b[0m\u001b[0mspecial_token_mask\u001b[0m\u001b[0;34m)\u001b[0m\u001b[0;34m\u001b[0m\u001b[0;34m\u001b[0m\u001b[0m\n\u001b[1;32m      9\u001b[0m \u001b[0;34m\u001b[0m\u001b[0m\n",
      "\u001b[0;31mIndexError\u001b[0m: index 1 is out of bounds for axis 0 with size 1"
     ]
    }
   ],
   "source": [
    "special_token_mask= np.zeros((len(output[\"scores\"][0]),bs),dtype=bool) #scores skips first\n",
    "bs \n",
    "\n",
    "for seq_ix in range(len(output[\"scores\"])):\n",
    "    for batch_ix in range(bs):\n",
    "        token_id = output.sequences[batch_ix, seq_ix + 1]\n",
    "        special_token_mask[seq_ix,batch_ix]=bool(token_id not in tokenizer.all_special_ids) \n",
    "print(special_token_mask)    \n",
    "  \n",
    "decoder_output_confs = torch.amax(torch.stack(output.scores, dim=1).softmax(-1), 2).cpu().numpy() \n",
    "print(decoder_output_confs[special_token_mask]) \n",
    " \n",
    "# add score for end token and wrap scores in a list\n",
    "decoder_output_confs = [np.concatenate([decoder_output_confs, [1.]], axis=0)]\n",
    "print(output.sequences[0],pred_answers,decoder_output_confs) "
   ]
  },
  {
   "cell_type": "code",
   "execution_count": 25,
   "metadata": {},
   "outputs": [
    {
     "ename": "KeyError",
     "evalue": "0",
     "output_type": "error",
     "traceback": [
      "\u001b[0;31m---------------------------------------------------------------------------\u001b[0m",
      "\u001b[0;31mKeyError\u001b[0m                                  Traceback (most recent call last)",
      "\u001b[0;32m<ipython-input-25-f5cfb655a4c4>\u001b[0m in \u001b[0;36m<module>\u001b[0;34m\u001b[0m\n\u001b[0;32m----> 1\u001b[0;31m \u001b[0mtokenizer\u001b[0m\u001b[0;34m.\u001b[0m\u001b[0mget_vocab\u001b[0m\u001b[0;34m(\u001b[0m\u001b[0;34m)\u001b[0m\u001b[0;34m[\u001b[0m\u001b[0;36m0\u001b[0m\u001b[0;34m]\u001b[0m\u001b[0;34m\u001b[0m\u001b[0;34m\u001b[0m\u001b[0m\n\u001b[0m",
      "\u001b[0;31mKeyError\u001b[0m: 0"
     ]
    }
   ],
   "source": [
    "tokenizer.get_vocab()[0]"
   ]
  },
  {
   "cell_type": "code",
   "execution_count": 20,
   "metadata": {},
   "outputs": [
    {
     "data": {
      "text/plain": [
       "tensor([], size=(1, 0), dtype=torch.int64)"
      ]
     },
     "execution_count": 20,
     "metadata": {},
     "output_type": "execute_result"
    }
   ],
   "source": [
    "gen_sequences = output.sequences[:, input_ids.shape[-1]:-1]\n",
    "gen_sequences"
   ]
  },
  {
   "cell_type": "code",
   "execution_count": 5,
   "metadata": {},
   "outputs": [
    {
     "data": {
      "text/plain": [
       "'<extra_id_0> park<extra_id_1><extra_id_1> the<extra_id_2>dog'"
      ]
     },
     "execution_count": 5,
     "metadata": {},
     "output_type": "execute_result"
    }
   ],
   "source": [
    "import torch\n",
    "\n",
    "# gen_sequences = decoder_output.sequences[:, prompt_tensors.shape[-1]:-1]\n",
    "# probs = torch.stack(decoder_output.scores, dim=1).softmax(-1)\n",
    "# gen_probs = torch.gather(probs, 2, gen_sequences[:, :, None]).squeeze(-1)\n",
    "# unique_prob_per_sequence = gen_probs.prod(-1)\n",
    "path=logits[0].argmax(-1)\n",
    "tokenizer.decode(path)"
   ]
  },
  {
   "cell_type": "code",
   "execution_count": null,
   "metadata": {},
   "outputs": [],
   "source": [
    "## only use id's that were generated\n",
    "gen_sequences = generated_outputs.sequences[:, inputs.input_ids.shape[-1]:]\n",
    "probs = torch.stack(generated_outputs.scores, dim=1).softmax(-1)  # -> shape [3, seqlen, vocab_size]\n",
    "\n",
    "# now we need to collect the probability of the generated token\n",
    "# we need to add a dummy dim in the end to make gather work\n",
    "gen_probs = torch.gather(probs, 2, gen_sequences[:, :, None]).squeeze(-1)\n",
    "\n",
    "# 1) the probs that exactly those sequences are generated again\n",
    "# those are normally going to be very small\n",
    "unique_prob_per_sequence = gen_probs.prod(-1)\n",
    "\n",
    "# 2) normalize the probs over the three sequences\n",
    "# WEIRD partition function\n",
    "normed_gen_probs = gen_probs / gen_probs.sum(0)\n",
    "assert normed_gen_probs[:, 0].sum() == 1.0, \"probs should be normalized\"\n",
    "\n",
    "# 3) compare normalized probs to each other like in 1)\n",
    "unique_normed_prob_per_sequence = normed_gen_probs.prod(-1)\n",
    "\n",
    "print(\"Output:\\n\" + 100 * '-')\n",
    "for i, sample_output in enumerate(generated_outputs.sequences):\n",
    "    print(\"{}: {}: {}\".format(i, tokenizer.decode(sample_output, skip_special_tokens=True), unique_normed_prob_per_sequence[i]))\n"
   ]
  }
 ],
 "metadata": {
  "kernelspec": {
   "display_name": "Python 3",
   "language": "python",
   "name": "python3"
  },
  "language_info": {
   "codemirror_mode": {
    "name": "ipython",
    "version": 3
   },
   "file_extension": ".py",
   "mimetype": "text/x-python",
   "name": "python",
   "nbconvert_exporter": "python",
   "pygments_lexer": "ipython3",
   "version": "3.8.10"
  },
  "vscode": {
   "interpreter": {
    "hash": "9e12bd35d6e12f8f07b4099e0c6a8e539513db727fbd371a4b61ac6721d7a75a"
   }
  }
 },
 "nbformat": 4,
 "nbformat_minor": 4
}
